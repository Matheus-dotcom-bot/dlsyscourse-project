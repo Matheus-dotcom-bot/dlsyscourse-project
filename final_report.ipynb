{
 "cells": [
  {
   "cell_type": "markdown",
   "id": "8e71ee46-11ab-44c2-9027-7f7e1facc9c3",
   "metadata": {},
   "source": [
    "# 1. Introduction"
   ]
  },
  {
   "cell_type": "markdown",
   "id": "b4f4f814-639a-4d7c-bc22-3a40c3f58eeb",
   "metadata": {},
   "source": [
    "Gated recurrent units (GRUs) are a type of recurrent neural network (RNN) that is trained to process sequential data, such as natural language, time series data, or speech. Like other RNNs, GRUs have the ability to process input sequences of variable length, and to maintain an internal state that allows them to remember information from previous inputs.\n",
    "\n",
    "One of the main advantages of GRUs is that they are simpler and easier to train than traditional RNNs, which can have difficulty learning long-term dependencies in the data. This is due to the use of gating mechanisms in GRUs, which allow the model to control the flow of information through the network and to selectively retain or discard information from the previous inputs.\n",
    "\n",
    "There are two types of gates in a GRU: the update gate and the reset gate. The update gate determines what information to retain from the previous hidden state, while the reset gate determines what information to forget.\n",
    "\n",
    "GRUs are widely used in natural language processing tasks such as language translation, text classification, and language modeling. They are also used in other domains where sequential data is present, such as speech recognition and time series forecasting."
   ]
  },
  {
   "cell_type": "markdown",
   "id": "7ea86f9e-5d45-471a-bfdd-491346d8ba1c",
   "metadata": {},
   "source": [
    "In this project, we implemented GRUCell and GRU for the Needle library."
   ]
  },
  {
   "cell_type": "markdown",
   "id": "636031a2-7cd4-4c11-9eda-b9a2fb5e5f3b",
   "metadata": {},
   "source": [
    "# 2. Methodology"
   ]
  },
  {
   "cell_type": "markdown",
   "id": "734e7533-0a6c-48d2-8697-204e8b83e8fd",
   "metadata": {},
   "source": [
    "### GRU Cell"
   ]
  },
  {
   "cell_type": "markdown",
   "id": "836259c8-a091-4ce1-8c04-e9c098c9fea5",
   "metadata": {},
   "source": [
    "According to [PyTorch documentation](https://pytorch.org/docs/stable/generated/torch.nn.GRUCell.html), GRUCell can be implemented with the following formulas: \n",
    "        \\begin{array}{ll}\n",
    "        r = \\sigma(W_{ir} x + b_{ir} + W_{hr} h + b_{hr}) \\\\\n",
    "        z = \\sigma(W_{iz} x + b_{iz} + W_{hz} h + b_{hz}) \\\\\n",
    "        n = \\tanh(W_{in} x + b_{in} + r * (W_{hn} h + b_{hn})) \\\\\n",
    "        h' = (1 - z) * n + z * h\n",
    "        \\end{array}"
   ]
  },
  {
   "cell_type": "markdown",
   "id": "4152d9fd-4b80-483b-aaa5-0a29e038dfdb",
   "metadata": {},
   "source": [
    "And here is the Python code:\n",
    "```python\n",
    "class GRUCell(Module):\n",
    "    ...\n",
    "    def forward(self, X, h=None):\n",
    "        bs, _ = X.shape\n",
    "        shape = bs, self.hidden_size\n",
    "        h = h or init.zeros(*shape, device=self.device, dtype=self.dtype)\n",
    "\n",
    "        X_new = X @ self.W_ih\n",
    "        h_new = h @ self.W_hh\n",
    "        if self.bias:\n",
    "            add_dim = 1, 3 * self.hidden_size\n",
    "            shape = bs, 3 * self.hidden_size\n",
    "            X_new += self.bias_ih.reshape(add_dim).broadcast_to(shape)\n",
    "            h_new += self.bias_hh.reshape(add_dim).broadcast_to(shape)\n",
    "\n",
    "        rx, zx, xn = ops.split(X_new.reshape((bs, 3, self.hidden_size)), axis=1)\n",
    "        rh, zh, nh = ops.split(h_new.reshape((bs, 3, self.hidden_size)), axis=1)\n",
    "\n",
    "        r = Sigmoid()(rx + rh)\n",
    "        z = Sigmoid()(zx + zh)\n",
    "        n = Tanh()(xn + r * nh)\n",
    "\n",
    "        h_out = (1 - z) * n + z * h\n",
    "        return h_out\n",
    "```"
   ]
  },
  {
   "cell_type": "markdown",
   "id": "dac05dc5-d42b-419c-bd01-f1f78a2a7e5a",
   "metadata": {},
   "source": [
    "Now let's test it by comparing it with PyTorch."
   ]
  },
  {
   "cell_type": "code",
   "execution_count": 1,
   "id": "4068e0dc-177f-45d0-8d32-88b1a5111df3",
   "metadata": {},
   "outputs": [],
   "source": [
    "import sys\n",
    "sys.path.append('./python')\n",
    "\n",
    "import needle as ndl\n",
    "import numpy as np\n",
    "import torch"
   ]
  },
  {
   "cell_type": "code",
   "execution_count": 2,
   "id": "ef3de682-d60e-440e-9e80-2e6fd193861e",
   "metadata": {},
   "outputs": [],
   "source": [
    "x = ndl.init.randn(1, 20, dtype=\"float32\")\n",
    "h0 = ndl.init.randn(1, 100, dtype=\"float32\")"
   ]
  },
  {
   "cell_type": "markdown",
   "id": "ae7ac15a-4081-4e5c-82c7-a5c2e735ab56",
   "metadata": {},
   "source": [
    "Here goes PyTorch implementation:"
   ]
  },
  {
   "cell_type": "code",
   "execution_count": 3,
   "id": "1bbc015d-ced5-4c13-a1fe-a7ec2fd29849",
   "metadata": {},
   "outputs": [
    {
     "name": "stdout",
     "output_type": "stream",
     "text": [
      "torch.Size([300, 100])\n",
      "torch.Size([300, 20])\n"
     ]
    }
   ],
   "source": [
    "model_torch = torch.nn.GRUCell(20, 100)\n",
    "print(model_torch.weight_hh.shape)\n",
    "print(model_torch.weight_ih.shape)"
   ]
  },
  {
   "cell_type": "code",
   "execution_count": 4,
   "id": "937ba7cd-0017-404a-a284-9fdb212fbc1a",
   "metadata": {},
   "outputs": [],
   "source": [
    "h_ = model_torch(torch.tensor(x.numpy()), torch.tensor(h0.numpy()))"
   ]
  },
  {
   "cell_type": "markdown",
   "id": "72f4d2f7-1cd8-4ce6-9971-1170ca055c15",
   "metadata": {},
   "source": [
    "And now our implementation for Needle:"
   ]
  },
  {
   "cell_type": "code",
   "execution_count": 5,
   "id": "9306d340-d084-46a5-9ab4-912f0fe66be4",
   "metadata": {},
   "outputs": [
    {
     "name": "stdout",
     "output_type": "stream",
     "text": [
      "(100, 300)\n",
      "(20, 300)\n"
     ]
    }
   ],
   "source": [
    "model_needle = ndl.nn.GRUCell(20, 100)\n",
    "print(model_needle.W_hh.shape)\n",
    "print(model_needle.W_ih.shape)"
   ]
  },
  {
   "cell_type": "code",
   "execution_count": 6,
   "id": "2855b919-7b36-4f48-886c-c5f69f14f52d",
   "metadata": {},
   "outputs": [],
   "source": [
    "model_needle.W_hh = ndl.nn.Parameter(ndl.Tensor(model_torch.weight_hh.detach().numpy().T, requires_grad=True))\n",
    "model_needle.W_ih = ndl.nn.Parameter(ndl.Tensor(model_torch.weight_ih.detach().numpy().T, requires_grad=True))\n",
    "model_needle.bias_hh = ndl.nn.Parameter(ndl.Tensor(model_torch.bias_hh.detach().numpy(), requires_grad=True))\n",
    "model_needle.bias_ih = ndl.nn.Parameter(ndl.Tensor(model_torch.bias_ih.detach().numpy(), requires_grad=True))\n",
    "\n",
    "h = model_needle.forward(x, h0)"
   ]
  },
  {
   "cell_type": "markdown",
   "id": "346d8487-bc99-42a3-8d74-f859f4ea3e9a",
   "metadata": {},
   "source": [
    "The moment of truth - let's compare the results."
   ]
  },
  {
   "cell_type": "code",
   "execution_count": 7,
   "id": "4a5093c9-755b-4cee-8b4a-1a5762a8b11b",
   "metadata": {},
   "outputs": [
    {
     "data": {
      "text/plain": [
       "4.4673982e-07"
      ]
     },
     "execution_count": 7,
     "metadata": {},
     "output_type": "execute_result"
    }
   ],
   "source": [
    "np.linalg.norm(h.detach().numpy() - h_.detach().numpy())"
   ]
  },
  {
   "cell_type": "markdown",
   "id": "e8b6b6b4-5269-4ca0-bf4d-bada2818f71f",
   "metadata": {},
   "source": [
    "The difference between the reference solution and ours is within numerical precision."
   ]
  },
  {
   "cell_type": "markdown",
   "id": "16299c30-df20-499d-98a4-fbac47b8ded1",
   "metadata": {},
   "source": [
    "### GRU"
   ]
  },
  {
   "cell_type": "markdown",
   "id": "35d41ef7-5805-475b-8dbb-b80dde4b88b7",
   "metadata": {},
   "source": [
    "Now let's test full GRU Class. Its code is the same as for RNN Class. So for the sake of brevity, we do not provide it here."
   ]
  },
  {
   "cell_type": "code",
   "execution_count": 8,
   "id": "0d396170-fb75-4c29-8baa-6fac2ff4004b",
   "metadata": {},
   "outputs": [],
   "source": [
    "X = ndl.init.randn(50, 128, 20, dtype=\"float32\")\n",
    "h0 = ndl.init.randn(1, 128, 100, dtype=\"float32\")"
   ]
  },
  {
   "cell_type": "markdown",
   "id": "58942864-6270-47ba-a675-068d60f29a5e",
   "metadata": {},
   "source": [
    "PyTorch implementation:"
   ]
  },
  {
   "cell_type": "code",
   "execution_count": 9,
   "id": "ffecb3d1-6ebe-402c-920d-923c6e2db33c",
   "metadata": {},
   "outputs": [
    {
     "name": "stdout",
     "output_type": "stream",
     "text": [
      "torch.Size([300, 100])\n",
      "torch.Size([300, 20])\n"
     ]
    }
   ],
   "source": [
    "model = torch.nn.GRU(20, 100, num_layers=1)\n",
    "print(model.weight_hh_l0.shape)\n",
    "print(model.weight_ih_l0.shape)"
   ]
  },
  {
   "cell_type": "code",
   "execution_count": 10,
   "id": "06fd8e62-a12d-4a35-8289-777b66301fb9",
   "metadata": {},
   "outputs": [],
   "source": [
    "out_, h_ = model(torch.tensor(X.numpy()), torch.tensor(h0.numpy()))"
   ]
  },
  {
   "cell_type": "markdown",
   "id": "3a7af754-755f-4273-bf45-f587ede393c6",
   "metadata": {},
   "source": [
    "Needle implementation:"
   ]
  },
  {
   "cell_type": "code",
   "execution_count": 11,
   "id": "69a8c291-77fb-439e-92b1-7c2991bcd708",
   "metadata": {},
   "outputs": [
    {
     "name": "stdout",
     "output_type": "stream",
     "text": [
      "(100, 300)\n",
      "(20, 300)\n"
     ]
    }
   ],
   "source": [
    "gm = ndl.nn.GRU(20, 100, num_layers=1)\n",
    "print(gm.gru_cells[0].W_hh.shape)\n",
    "print(gm.gru_cells[0].W_ih.shape)"
   ]
  },
  {
   "cell_type": "code",
   "execution_count": 12,
   "id": "1677b13c-bda2-4fb8-86e2-6db36a7e2fd0",
   "metadata": {},
   "outputs": [],
   "source": [
    "gm.gru_cells[0].W_hh = ndl.nn.Parameter(ndl.Tensor(model.weight_hh_l0.detach().numpy().T, requires_grad=True))\n",
    "gm.gru_cells[0].W_ih = ndl.nn.Parameter(ndl.Tensor(model.weight_ih_l0.detach().numpy().T, requires_grad=True))\n",
    "gm.gru_cells[0].bias_hh = ndl.nn.Parameter(ndl.Tensor(model.bias_hh_l0.detach().numpy(), requires_grad=True))\n",
    "gm.gru_cells[0].bias_ih = ndl.nn.Parameter(ndl.Tensor(model.bias_ih_l0.detach().numpy(), requires_grad=True))\n",
    "\n",
    "out, h = gm.forward(X, h0)"
   ]
  },
  {
   "cell_type": "markdown",
   "id": "7a5e0844-a980-4ed5-864d-e3ba1a95b83c",
   "metadata": {},
   "source": [
    "Let's compare the results:"
   ]
  },
  {
   "cell_type": "code",
   "execution_count": 13,
   "id": "f6843042-1178-4cdb-ae0e-7f42987df2fc",
   "metadata": {},
   "outputs": [
    {
     "name": "stdout",
     "output_type": "stream",
     "text": [
      "1.8714472e-06\n",
      "1.4572848e-05\n"
     ]
    }
   ],
   "source": [
    "print(np.linalg.norm(h.detach().numpy() - h_.detach().numpy()))\n",
    "print(np.linalg.norm(out.detach().numpy() - out_.detach().numpy()))"
   ]
  },
  {
   "cell_type": "markdown",
   "id": "aa4acc6b-3f1e-4b95-a22b-852b384d9d78",
   "metadata": {},
   "source": [
    "And again the difference is within numerical precision."
   ]
  },
  {
   "cell_type": "markdown",
   "id": "c98bc2b8-0a1e-4510-a107-d2048cf56a49",
   "metadata": {},
   "source": [
    "# 3. Results"
   ]
  },
  {
   "cell_type": "markdown",
   "id": "3cbe4a94-a210-4112-912d-dd3fee1730c8",
   "metadata": {},
   "source": [
    "* Present the results of your implementation, including any performance metrics that you used to evaluate it."
   ]
  },
  {
   "cell_type": "markdown",
   "id": "ed754a5e-b9d1-40b8-b983-8aa7803c1f1e",
   "metadata": {},
   "source": [
    "* Discuss the implications of your results and how they compare to your expectations."
   ]
  },
  {
   "cell_type": "markdown",
   "id": "8c2b3263-5346-4563-889b-16d65c45ec40",
   "metadata": {},
   "source": [
    "# 4. Conclusion"
   ]
  },
  {
   "cell_type": "markdown",
   "id": "05a68d88-ad90-4c52-8752-0de49e150b47",
   "metadata": {},
   "source": [
    "* Summarize the key points of your report."
   ]
  },
  {
   "cell_type": "markdown",
   "id": "29c52491-2948-4a04-945e-2b647fb0b810",
   "metadata": {},
   "source": [
    "* Discuss any limitations or challenges that you encountered while implementing the GRU, and suggest potential areas for future work."
   ]
  }
 ],
 "metadata": {
  "kernelspec": {
   "display_name": "Python 3 (ipykernel)",
   "language": "python",
   "name": "python3"
  },
  "language_info": {
   "codemirror_mode": {
    "name": "ipython",
    "version": 3
   },
   "file_extension": ".py",
   "mimetype": "text/x-python",
   "name": "python",
   "nbconvert_exporter": "python",
   "pygments_lexer": "ipython3",
   "version": "3.9.2"
  }
 },
 "nbformat": 4,
 "nbformat_minor": 5
}
